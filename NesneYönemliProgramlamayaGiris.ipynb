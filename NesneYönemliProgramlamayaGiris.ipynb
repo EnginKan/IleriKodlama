{
 "cells": [
  {
   "cell_type": "markdown",
   "metadata": {},
   "source": [
    "# Python ile Nesne Yönelimli Programlamaya Giriş"
   ]
  },
  {
   "cell_type": "markdown",
   "metadata": {},
   "source": [
    "Python Programalama dili de Nsne Yönelimli programlama kavramını destekliyor. Nesne Yönelimli Programlama modeli,\n",
    "yapısal programlamadan farklı olarak sınıf-nesne ilşikisine dayalı bir yapıya dayanıyor. \n",
    "Burada en önemli olan nokta SINIF(Class) ve Nesne(Object) kavramlarını anlamaktan geçiyor.\n",
    "\n",
    "__Nesne yönelimli programlama(OOP)__, gündelik araçlar gibi somut, gerçek dünyadaki şeylerin yanı sıra şirketler ve \n",
    "çalışanlar,öğrenciler ve öğretmenler, vb. arasındaki ilişkilerin modellenmesi için bir yaklaşımdır. OOP,\n",
    "gerçek dünyadaki varlıklarla ilgili bazı verileri içeren yazılım nesneleri olarak modeller bunları ve bazı işlevleri\n",
    "gerçekleştirebilir.\n",
    "\n",
    "Burada aslında __sınıf__ kavramı programlamada kavramların genel hatlarını belirleme yöntemini temsil etmektedir.\n",
    "__Nesne__ ise bu sınıflardan bir özneyi temsil etmektedir. Örnek vermek gerekirse Ögrenci kavramı bir sınıfı temsil eder.\n",
    "\n",
    "Ama her öğrencinin kendi ismi, soyismi ve ögrenci numarası gibi özellikleri farklıdır. Bir üniversitenin bir öğrenciyi \n",
    "kayıt ederken tuttuğu bilgiler bellidir ve bu bilgiler aynı zamanda öğrenci belirli bir öğrenciye ait değerleri taşır.\n",
    "\n",
    "Burada ilk olarak sınıf kavramın ve Python programlama dilinde sınıf kavramınının yazım kurallarını öğrenelim:\n",
    "    Sınıf tanımlamak için __class__ anahtar kelimesini kullanıyoruz. Örnek olarak Öğrenci sınıfını tanımlayalım:\n"
   ]
  },
  {
   "cell_type": "code",
   "execution_count": 1,
   "metadata": {},
   "outputs": [],
   "source": [
    "class Ogrenci:\n",
    "    pass"
   ]
  },
  {
   "cell_type": "markdown",
   "metadata": {},
   "source": [
    "Burada class kelimesi sınıf tanımlamak için kullanılıyor ve sınıfımızın ismi olan Ogrenci den sonra döngülerde\n",
    "olduğu gibi : yazıyoruz. Gördüğümüz üzere __pass__ yazan bir kelime daha gördük, bu kelime herhangi bir hata mesajı \n",
    "almadan python kodumuzu tanımlamamızı sağladı. Şimdi bir adet ogrenci nesne si tanımlayalım:"
   ]
  },
  {
   "cell_type": "code",
   "execution_count": 2,
   "metadata": {},
   "outputs": [
    {
     "name": "stdout",
     "output_type": "stream",
     "text": [
      "<class '__main__.Ogrenci'>\n"
     ]
    }
   ],
   "source": [
    "ogrenci1=Ogrenci()\n",
    "print(type(ogrenci1))"
   ]
  },
  {
   "cell_type": "markdown",
   "metadata": {},
   "source": [
    "Gördüğünüz üzere ögrenci1 nesne sinin tipini yazdırdığımızda Ogrenci sınıfından yaratıldığını görüyoruz."
   ]
  },
  {
   "cell_type": "markdown",
   "metadata": {},
   "source": [
    "Daha önce sınıflarda o sınıfa dahil özellikleri yapsınının tutlduğunu söylemiştik. Şimdi bu özellikleri tanımlayalım.\n",
    "bİr öğrenci tanımlarken isim,soyisim ve ogrenci_no verilerini kullandığımız örnekten bahsetmiştik.\n",
    "Gelin bu yapıyı oluşturalım:\n",
    "    "
   ]
  },
  {
   "cell_type": "code",
   "execution_count": 7,
   "metadata": {},
   "outputs": [],
   "source": [
    "class Ogrenci:\n",
    "    def __init__(self,isim,soyisim,ogrenci_no):\n",
    "        self.isim=isim\n",
    "        self.soyisim=soyisim\n",
    "        self.ogrenci_no=ogrenci_no"
   ]
  },
  {
   "cell_type": "markdown",
   "metadata": {},
   "source": [
    "Burada ___init()___ metodunu gördük.__init()__ metodu, bir öğrenci sınıfından bir nesnenin nasıl tanımlanacağınını \n",
    "belirtiğimiz yapıdır.Gördüğümüz üzere 4 adet argüman almaktadır.\n",
    "Burada dikkatinizi çekecek olan ise muhtemelen self'tir. self argümanın python programlama dilinde özel bir \n",
    "anahtar kelimedir. Türkçe anlamına bakacak olursak kendisi anlamındadır.Örneğin,self.isim=isim ifadesinde yapılmak\n",
    "istenen bu isim __init()__ içinde okuduğumuz isim değerini alsın demek. Burdanda anlayacağımız, isim,soyisim ve ogrenci_no değişkenlerinin o sınıfın değişkenleri olduğudur.(self kelimesinden sonra nokta koyarak çağırdımız değişkenler.)\n",
    "\n",
    "Bu değişkenlerde dinamik(anlık) değişken(__instance variable__ veya __attributes__) olarak adlandırılır. Bu değişkenler herbir nesne de kendine ait değerleri alır. Gelin iki adet ayrı Ogrenci nesnesi yaratalım."
   ]
  },
  {
   "cell_type": "code",
   "execution_count": 9,
   "metadata": {},
   "outputs": [
    {
     "name": "stdout",
     "output_type": "stream",
     "text": [
      "Ogrenci ID:111111233 Isim=Engin Soyisim=Kandiran\n",
      "Ogrenci ID:343242342 Isim=Dilek Soyisim=Gören\n"
     ]
    }
   ],
   "source": [
    "ogrenci1=Ogrenci(\"Engin\",\"Kandiran\",\"111111233\")\n",
    "ogrenci2=Ogrenci(\"Dilek\",\"Gören\",\"343242342\")\n",
    "ogrenciler=[ogrenci1,ogrenci2]\n",
    "for ogrenci in ogrenciler:\n",
    "    print(\"Ogrenci ID:{} Isim={} Soyisim={}\".format(ogrenci.ogrenci_no,ogrenci.isim,ogrenci.soyisim))"
   ]
  },
  {
   "cell_type": "markdown",
   "metadata": {},
   "source": [
    "Bu örnekten anlamamız gereken bir kaç şey var. Gördüğünüz üzere nesne tanımlama yöntememiz değişit.\n",
    "Yukarıda bahsettiğimiz __init()__ metoduna uygun olarak bir nesne tanımladık. Yalnız __self__ argümanını \n",
    "yazmadık. Çünkü Python dilinde bu otomatik olarak siz yazmadan burada var sayılır. Yani sizin __self__ argümanınızı \n",
    "yazmanıza gerek kalmaz. Diğer argümanları ise vermeniz gerekmektedir."
   ]
  },
  {
   "cell_type": "markdown",
   "metadata": {},
   "source": [
    "Şimdiye kadar sadece sınıfların dimanik değişkenlere sahip olduğundan bahsettik. Sınıflar sadece dinamik değişkenlerin\n",
    "bir arada tutldukları yapıları temsil etmiyor. Bunu dışında bu sınıfların nesnelerinin günümüzdeki nesneler gibi \n",
    "davranışlarıda(behaviour) var.Bu davranışları metodlarla ifade ediyoruz. Python dilinde bu metodlara dinamik metodlar\n",
    "(__instance methods__) deniyor. Aşağıdaki örnekte, Ogrenci sınıfımıza __ozet()__ isimli bir metod ekleyelim:"
   ]
  },
  {
   "cell_type": "code",
   "execution_count": 13,
   "metadata": {},
   "outputs": [],
   "source": [
    "class Ogrenci:\n",
    "    def __init__(self,isim,soyisim,ogrenci_no):\n",
    "        self.isim=isim\n",
    "        self.soyisim=soyisim\n",
    "        self.ogrenci_no=ogrenci_no\n",
    "    def ozet(self):\n",
    "         return \"Ogrenci ID:{} Isim={} Soyisim={}\".format(self.ogrenci_no,self.isim,self.soyisim)"
   ]
  },
  {
   "cell_type": "markdown",
   "metadata": {},
   "source": [
    "Şimdi __ogrenciler__ adlı listemizden her bir nesne için ozet metodu çağıralım:"
   ]
  },
  {
   "cell_type": "code",
   "execution_count": 15,
   "metadata": {},
   "outputs": [
    {
     "name": "stdout",
     "output_type": "stream",
     "text": [
      "Ogrenci ID:111111233 Isim=Engin Soyisim=Kandiran\n",
      "Ogrenci ID:343242342 Isim=Dilek Soyisim=Gören\n"
     ]
    }
   ],
   "source": [
    "ogrenci1=Ogrenci(\"Engin\",\"Kandiran\",\"111111233\")\n",
    "ogrenci2=Ogrenci(\"Dilek\",\"Gören\",\"343242342\")\n",
    "ogrenciler=[ogrenci1,ogrenci2]\n",
    "for ogrenci in ogrenciler:\n",
    "    print(ogrenci.ozet())"
   ]
  },
  {
   "cell_type": "markdown",
   "metadata": {},
   "source": [
    "Sınıflar içinde metod konusuna daha sonra detaytlı olarak değineceğiz. Burada ilave olarak bu dersimizde sınıf değişkenlerinden bahsetmek\n",
    "(__class variables__) gerekir. Sınıf değişkenleri o sınıfın bütün nesneleri için aynı değere sahiptir.(dinamik değişkenlerden farklı olarak.)"
   ]
  },
  {
   "cell_type": "code",
   "execution_count": 16,
   "metadata": {},
   "outputs": [],
   "source": [
    "class Ogrenci:\n",
    "    uyruk=\"TC\"\n",
    "    def __init__(self,isim,soyisim,ogrenci_no):\n",
    "        self.isim=isim\n",
    "        self.soyisim=soyisim\n",
    "        self.ogrenci_no=ogrenci_no\n",
    "    def ozet(self):\n",
    "         return \"Ogrenci ID:{} Isim={} Soyisim={}\".format(self.ogrenci_no,self.isim,self.soyisim)"
   ]
  },
  {
   "cell_type": "markdown",
   "metadata": {},
   "source": [
    "Yukarıdaki örnekte uyruk isimli değişken bir sınıf değişkenine örnektir. Bütün ogrenci nesneleri için bu değişken \"TC\" \n",
    "değerine sahiptir."
   ]
  },
  {
   "cell_type": "code",
   "execution_count": null,
   "metadata": {},
   "outputs": [],
   "source": []
  }
 ],
 "metadata": {
  "kernelspec": {
   "display_name": "Python 3",
   "language": "python",
   "name": "python3"
  },
  "language_info": {
   "codemirror_mode": {
    "name": "ipython",
    "version": 3
   },
   "file_extension": ".py",
   "mimetype": "text/x-python",
   "name": "python",
   "nbconvert_exporter": "python",
   "pygments_lexer": "ipython3",
   "version": "3.6.4"
  }
 },
 "nbformat": 4,
 "nbformat_minor": 2
}
