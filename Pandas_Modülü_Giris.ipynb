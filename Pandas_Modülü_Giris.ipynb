{
 "cells": [
  {
   "cell_type": "markdown",
   "metadata": {},
   "source": [
    "# Pandas Modülüne Giriş: TOP 5000 youtube kanalı ile alakalı veri analizi"
   ]
  },
  {
   "cell_type": "markdown",
   "metadata": {},
   "source": [
    "Bu dersimizde pandas modülü üzerinden bir excel dosyasından veri okuyup, verileri görselleştirmeye giriş yapacağız.\n",
    "\n",
    "Daha önce, programlamaya giriş dersinde, aslında modüllere giriş konusu yapmıştık. Modüllerin ilk örnekleri __turtle__\n",
    "ile görmüştük. Modülleri birçok işimiz kolaylaştıran kütüphanler olarak görmek kolay olarak anlamlandırma da yardımcı olabilir.\n",
    "\n",
    "Projemize öncellikle nasıl bir modülü dahil edeceğimizi söyleyerek başlayalım:\n",
    "    \n",
    "    import modul_ismi\n",
    "    \n",
    "yazdığımızda projemiz o modulün metodlarını ve değişkenlerini kullabilir hale geliyor.\n",
    "\n",
    "Burada kullanıdığımız modül ismi bizim için daha sonra metodları ve diğer değişkenleri çağırmada kullanacağımız için \n",
    "modül isimlerini ksaıltmak adına aşağıda belirttiğimiz gibi yazılabilir:\n",
    "    \n",
    "    import modul_ismi as modul_kısaltma_isim\n",
    "    \n",
    "Tabi ki bu bir zorunluluk olmamakla beraber google da araştırdığınızda bu kullanımı sıklıkla göreceksiniz.\n",
    "Şimdi bunu gerçek bir modül üzerinden yapalım ve projemize __pandas__ modülünü dahil edelim.\n"
   ]
  },
  {
   "cell_type": "code",
   "execution_count": 1,
   "metadata": {},
   "outputs": [],
   "source": [
    "import pandas as pd"
   ]
  },
  {
   "cell_type": "markdown",
   "metadata": {},
   "source": [
    "Pandas, Python programlama dili için yüksek performanslı, kullanımı kolay veri yapıları ve veri analizi araçları \n",
    "sağlayan açık kaynaklı, BSD lisanslı bir kütüphanedir.\n",
    "\n",
    "Pandas kütüphanesini özel ve verimli kılan şey , verileri (CSV veya TSV dosyası veya bir SQL veritabanı gibi) alması ve istatistiksel bir yazılımdaki tabloya çok benzeyen veri çerçevesi adı verilen(__DataFrame__) satır ve sütunlarla bir Python nesnesi oluşturmasıdır."
   ]
  },
  {
   "cell_type": "markdown",
   "metadata": {},
   "source": [
    "Python kütüphanesi referanslarda vereceğim liklerden takip edebileceğiniz üzere matlplotlib ve numpy kütüphanelerine\n",
    "(diğer sıklıkla kullanılan kütüphane) dayanmaktadır/beraber kullanılmaktadır. \n",
    "\n",
    "Pandas'ı veri analizi için kullanmak istediğinizde, bunu yapmakta itemenizin üç temel başlık altında toplanabilir:\n",
    "\n",
    " - Bir Python’un listesini, dictionary'sini veya Numpy dizisini bir Pandas __DataFrame__'e  dönüştürmek\n",
    " - Genellikle bir CSV dosyasını olan Pandas'ı kullanarak yerel bir dosya açın,yada ayrılmış bir metin dosyası\n",
    "   (Excel, vb. de olabilir).\n",
    " - CSV veya JSON gibi bir uzak dosyaya veya veritabanına URL yoluyla veri okuyabilir veya bir SQL tablosundan/veritabanından\n",
    "   veri okunabilir."
   ]
  },
  {
   "cell_type": "markdown",
   "metadata": {},
   "source": [
    "## CSV dosyasından veri okumak"
   ]
  },
  {
   "cell_type": "markdown",
   "metadata": {},
   "source": [
    "Daha önce bahsettiğimiz gibi __pandas__ ile bir çok veir tipi okunabiliyor. Genelde dosya okulmak için:\n",
    "    \n",
    "    pd.read_dosya_tipi()\n",
    "\n",
    "Örneğin:\n",
    "    \n",
    "    pd.read_csv('dosya_yolu/dosya.csv')\n",
    "\n",
    "şeklinde komut verilir.(Bir çok parametre daha verilebilir, pandas dökümanına __[bakmanız](http://pandas.pydata.org/pandas-docs/stable/reference/api/pandas.read_csv.html)__ lazım.) "
   ]
  },
  {
   "cell_type": "markdown",
   "metadata": {},
   "source": [
    "Bu dersimizde data analiz için Top 5000 Youtube channels data from Socialblade isimli __[kaagle.com](https://www.kaggle.com/mdhrumil/top-5000-youtube-channels-data-from-socialblade)__ sitesinideki CSV dosyasını kullanıcağız.\n",
    "Öncelikle, ilk olarak veri setimizi dahil edelim:"
   ]
  },
  {
   "cell_type": "code",
   "execution_count": 9,
   "metadata": {},
   "outputs": [
    {
     "name": "stdout",
     "output_type": "stream",
     "text": [
      "<class 'pandas.core.frame.DataFrame'>\n",
      "RangeIndex: 5000 entries, 0 to 4999\n",
      "Data columns (total 6 columns):\n",
      "Rank             5000 non-null object\n",
      "Grade            5000 non-null object\n",
      "Channel name     5000 non-null object\n",
      "Video Uploads    5000 non-null object\n",
      "Subscribers      5000 non-null object\n",
      "Video views      5000 non-null int64\n",
      "dtypes: int64(1), object(5)\n",
      "memory usage: 234.5+ KB\n"
     ]
    }
   ],
   "source": [
    "df=pd.read_csv('data.csv')\n",
    "df.info()"
   ]
  },
  {
   "cell_type": "markdown",
   "metadata": {},
   "source": [
    "Bir üst satırda __df__ isimli bir dataFrame yarattık ve burada CSV uzantılı dosyamızda ki verileri tuttuk.\n",
    "df.info() komutuyla dataframe'mizin içieriğinde neler olduğunu listeledik."
   ]
  },
  {
   "cell_type": "markdown",
   "metadata": {},
   "source": [
    "DataFrame'lerde listelerdeki indislerden farklı olarak kolon isimlerini(dictionary'lerde olduğu gibi) kullabiliriz.\n",
    "Örnegğin __Channel name__ isimli kolonu almak için aşağıdaki yaızımı kullabiliriz: "
   ]
  },
  {
   "cell_type": "code",
   "execution_count": 7,
   "metadata": {},
   "outputs": [
    {
     "data": {
      "text/plain": [
       "0                        Zee TV\n",
       "1                      T-Series\n",
       "2    Cocomelon - Nursery Rhymes\n",
       "3                     SET India\n",
       "4                           WWE\n",
       "Name: Channel name, dtype: object"
      ]
     },
     "execution_count": 7,
     "metadata": {},
     "output_type": "execute_result"
    }
   ],
   "source": [
    "kanallar=df['Channel name']\n",
    "kanallar.head(5)"
   ]
  },
  {
   "cell_type": "markdown",
   "metadata": {},
   "source": [
    "Burada __info()__, metodu dışında __head(5)__ metoduyla ilk 5 satırı ekranda yazdırmak için gereken bir metod öğrendik.\n",
    "DataFarame ler üzerinden çeşitli basit istatistikler veren metodlar çağırabiliriz. Aşağıda bir kaç örenk bulacaksınız: "
   ]
  },
  {
   "cell_type": "code",
   "execution_count": 8,
   "metadata": {},
   "outputs": [
    {
     "data": {
      "text/plain": [
       "Video views    1.071449e+09\n",
       "dtype: float64"
      ]
     },
     "execution_count": 8,
     "metadata": {},
     "output_type": "execute_result"
    }
   ],
   "source": [
    "df.mean()"
   ]
  },
  {
   "cell_type": "markdown",
   "metadata": {},
   "source": [
    "Burada __mean()__ metodu numerik değere sahip olan __Video views__ kolonundan ortalama değeri hesaplıyor. \n",
    "Peki DataFrame de veri tiplerini değiştirebilir miyiz?\n",
    "Bu sorunu cevabı __EVET__"
   ]
  },
  {
   "cell_type": "code",
   "execution_count": 10,
   "metadata": {},
   "outputs": [],
   "source": [
    "df['Subscribers']=pd.to_numeric(df['Subscribers'],errors='coarse')"
   ]
  },
  {
   "cell_type": "code",
   "execution_count": 11,
   "metadata": {},
   "outputs": [
    {
     "data": {
      "text/plain": [
       "2620004.1344027747"
      ]
     },
     "execution_count": 11,
     "metadata": {},
     "output_type": "execute_result"
    }
   ],
   "source": [
    "df['Subscribers'].mean()"
   ]
  },
  {
   "cell_type": "code",
   "execution_count": 15,
   "metadata": {},
   "outputs": [
    {
     "data": {
      "text/plain": [
       "Text(0.5,1,'İlk 5 Youtube kanalı üye sayısı karşılatırma')"
      ]
     },
     "execution_count": 15,
     "metadata": {},
     "output_type": "execute_result"
    },
    {
     "data": {
      "image/png": "[encoded data removed]",
      "text/plain": [
       "<matplotlib.figure.Figure at 0xbd9b860>"
      ]
     },
     "metadata": {},
     "output_type": "display_data"
    }
   ],
   "source": [
    "import matplotlib.pyplot as plt\n",
    "df.head(10).plot.bar(x = 'Channel name', y = 'Subscribers')\n",
    "plt.title('İlk 5 Youtube kanalı üye sayısı karşılatırma')"
   ]
  },
  {
   "cell_type": "markdown",
   "metadata": {},
   "source": [
    "Bir üst satırdaki örnekte ise dataFrame içindeki iki ayrı kolondaki verilere göre bir histogram çizdirdik. Histogram dışında\n",
    "normal grafikelerde çizbiliriz:    "
   ]
  },
  {
   "cell_type": "code",
   "execution_count": 16,
   "metadata": {},
   "outputs": [
    {
     "data": {
      "text/plain": [
       "<matplotlib.axes._subplots.AxesSubplot at 0xbb12e80>"
      ]
     },
     "execution_count": 16,
     "metadata": {},
     "output_type": "execute_result"
    },
    {
     "data": {
      "image/png": "[encoded data removed]",
      "text/plain": [
       "<matplotlib.figure.Figure at 0xb13d240>"
      ]
     },
     "metadata": {},
     "output_type": "display_data"
    }
   ],
   "source": [
    "df.head(100).plot(x='Video Uploads', y='Video views')"
   ]
  },
  {
   "cell_type": "markdown",
   "metadata": {},
   "source": [
    "### DataFrame Veri Filtreleme ve Indisler vasıtasıyla verilere Ulaşma"
   ]
  },
  {
   "cell_type": "markdown",
   "metadata": {},
   "source": [
    "Listelerde olduğu gibi verilere indisler vasıtatyla da ulaşabiliyoruz. Liste veri yapılarında ki olduğu gibi ilk indis yine \n",
    "0(sıfır)'dan başlıyor. Yanlız burada listelrden farklı olarak __iloc()__ metod üzerinden çağırıyoruz. Örnek vermek gerekirse:"
   ]
  },
  {
   "cell_type": "code",
   "execution_count": 19,
   "metadata": {},
   "outputs": [
    {
     "data": {
      "text/plain": [
       "'A++ '"
      ]
     },
     "execution_count": 19,
     "metadata": {},
     "output_type": "execute_result"
    }
   ],
   "source": [
    "df.iloc[0,1]"
   ]
  },
  {
   "cell_type": "markdown",
   "metadata": {},
   "source": [
    "Bu örnekte verimizn birinci satırndaki 2. kolondaki veriyi çekmiş olduk."
   ]
  },
  {
   "cell_type": "code",
   "execution_count": null,
   "metadata": {},
   "outputs": [],
   "source": []
  }
 ],
 "metadata": {
  "kernelspec": {
   "display_name": "Python 3",
   "language": "python",
   "name": "python3"
  },
  "language_info": {
   "codemirror_mode": {
    "name": "ipython",
    "version": 3
   },
   "file_extension": ".py",
   "mimetype": "text/x-python",
   "name": "python",
   "nbconvert_exporter": "python",
   "pygments_lexer": "ipython3",
   "version": "3.6.4"
  }
 },
 "nbformat": 4,
 "nbformat_minor": 2
}
