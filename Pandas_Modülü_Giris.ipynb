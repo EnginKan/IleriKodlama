{
 "cells": [
  {
   "cell_type": "markdown",
   "metadata": {},
   "source": [
    "# Pandas Modülüne Giriş: TOP 5000 youtube kanalı ile alakalı veri analizi"
   ]
  },
  {
   "cell_type": "markdown",
   "metadata": {},
   "source": [
    "Bu dersimizde pandas modülü üzerinden bir excel dosyasından veri okuyup, verileri görselleştirmeye giriş yapacağız.\n",
    "\n",
    "Daha önce, programlamaya giriş dersinde, aslında modüllere giriş konusu yapmıştık. Modüllerin ilk örnekleri __turtle__\n",
    "ile görmüştük. Modülleri birçok işimiz kolaylaştıran kütüphanler olarak görmek kolay olarak anlamlandırma da yardımcı olabilir.\n",
    "\n",
    "Projemize öncellikle nasıl bir modülü dahil edeceğimizi söyleyerek başlayalım:\n",
    "    \n",
    "    import modul_ismi\n",
    "    \n",
    "yazdığımızda projemiz o modulün metodlarını ve değişkenlerini kullabilir hale geliyor.\n",
    "\n",
    "Burada kullanıdığımız modül ismi bizim için daha sonra metodları ve diğer değişkenleri çağırmada kullanacağımız için \n",
    "modül isimlerini ksaıltmak adına aşağıda belirttiğimiz gibi yazılabilir:\n",
    "    \n",
    "    import modul_ismi as modul_kısaltma_isim\n",
    "    \n",
    "Tabi ki bu bir zorunluluk olmamakla beraber google da araştırdığınızda bu kullanımı sıklıkla göreceksiniz.\n",
    "Şimdi bunu gerçek bir modül üzerinden yapalım ve projemize __pandas__ modülünü dahil edelim.\n"
   ]
  },
  {
   "cell_type": "code",
   "execution_count": 1,
   "metadata": {},
   "outputs": [],
   "source": [
    "import pandas as pd"
   ]
  },
  {
   "cell_type": "markdown",
   "metadata": {},
   "source": [
    "Pandas, Python programlama dili için yüksek performanslı, kullanımı kolay veri yapıları ve veri analizi araçları \n",
    "sağlayan açık kaynaklı, BSD lisanslı bir kütüphanedir.\n",
    "\n",
    "Pandas kütüphanesini özel ve verimli kılan şey , verileri (CSV veya TSV dosyası veya bir SQL veritabanı gibi) alması ve istatistiksel bir yazılımdaki tabloya çok benzeyen veri çerçevesi adı verilen(__DataFrame__) satır ve sütunlarla bir Python nesnesi oluşturmasıdır."
   ]
  },
  {
   "cell_type": "markdown",
   "metadata": {},
   "source": [
    "Python kütüphanesi referanslarda vereceğim liklerden takip edebileceğiniz üzere matlplotlib ve numpy kütüphanelerine\n",
    "(diğer sıklıkla kullanılan kütüphane) dayanmaktadır/beraber kullanılmaktadır. \n",
    "\n",
    "Pandas'ı veri analizi için kullanmak istediğinizde, bunu yapmakta itemenizin üç temel başlık altında toplanabilir:\n",
    "\n",
    " - Bir Python’un listesini, dictionary'sini veya Numpy dizisini bir Pandas __DataFrame__'e  dönüştürmek\n",
    " - Genellikle bir CSV dosyasını olan Pandas'ı kullanarak yerel bir dosya açın,yada ayrılmış bir metin dosyası\n",
    "   (Excel, vb. de olabilir).\n",
    " - CSV veya JSON gibi bir uzak dosyaya veya veritabanına URL yoluyla veri okuyabilir veya bir SQL tablosundan/veritabanından\n",
    "   veri okunabilir."
   ]
  },
  {
   "cell_type": "markdown",
   "metadata": {},
   "source": [
    "## CSV dosyasından veri okumak"
   ]
  },
  {
   "cell_type": "markdown",
   "metadata": {},
   "source": [
    "Daha önce bahsettiğimiz gibi __pandas__ ile bir çok veir tipi okunabiliyor. Genelde dosya okulmak için:\n",
    "    \n",
    "    pd.read_dosya_tipi()\n",
    "\n",
    "Örneğin:\n",
    "    \n",
    "    pd.read_csv('dosya_yolu/dosya.csv')\n",
    "\n",
    "şeklinde komut verilir.(Bir çok parametre daha verilebilir, pandas dökümanına __[bakmanız](http://pandas.pydata.org/pandas-docs/stable/reference/api/pandas.read_csv.html)__ lazım.) "
   ]
  },
  {
   "cell_type": "markdown",
   "metadata": {},
   "source": [
    "Bu dersimizde data analiz için Top 5000 Youtube channels data from Socialblade isimli __[kaagle.com](https://www.kaggle.com/mdhrumil/top-5000-youtube-channels-data-from-socialblade)__ sitesinideki CSV dosyasını kullanıcağız.\n",
    "Öncelikle, ilk olarak veri setimizi dahil edelim:"
   ]
  },
  {
   "cell_type": "code",
   "execution_count": 2,
   "metadata": {},
   "outputs": [
    {
     "name": "stdout",
     "output_type": "stream",
     "text": [
      "<class 'pandas.core.frame.DataFrame'>\n",
      "RangeIndex: 5000 entries, 0 to 4999\n",
      "Data columns (total 6 columns):\n",
      "Rank             5000 non-null object\n",
      "Grade            5000 non-null object\n",
      "Channel name     5000 non-null object\n",
      "Video Uploads    5000 non-null object\n",
      "Subscribers      5000 non-null object\n",
      "Video views      5000 non-null int64\n",
      "dtypes: int64(1), object(5)\n",
      "memory usage: 234.5+ KB\n"
     ]
    }
   ],
   "source": [
    "df=pd.read_csv('data.csv')\n",
    "df.info()"
   ]
  },
  {
   "cell_type": "markdown",
   "metadata": {},
   "source": [
    "Bir üst satırda __df__ isimli bir dataFrame yarattık ve burada CSV uzantılı dosyamızda ki verileri tuttuk.\n",
    "df.info() komutuyla dataframe'mizin içieriğinde neler olduğunu listeledik."
   ]
  },
  {
   "cell_type": "markdown",
   "metadata": {},
   "source": [
    "DataFrame'lerde listelerdeki indislerden farklı olarak kolon isimlerini(dictionary'lerde olduğu gibi) kullabiliriz.\n",
    "Örnegğin __Channel name__ isimli kolonu almak için aşağıdaki yaızımı kullabiliriz: "
   ]
  },
  {
   "cell_type": "code",
   "execution_count": 3,
   "metadata": {},
   "outputs": [
    {
     "data": {
      "text/plain": [
       "0                        Zee TV\n",
       "1                      T-Series\n",
       "2    Cocomelon - Nursery Rhymes\n",
       "3                     SET India\n",
       "4                           WWE\n",
       "Name: Channel name, dtype: object"
      ]
     },
     "execution_count": 3,
     "metadata": {},
     "output_type": "execute_result"
    }
   ],
   "source": [
    "kanallar=df['Channel name']\n",
    "kanallar.head(5)"
   ]
  },
  {
   "cell_type": "markdown",
   "metadata": {},
   "source": [
    "Burada __info()__, metodu dışında __head(5)__ metoduyla ilk 5 satırı ekranda yazdırmak için gereken bir metod öğrendik.\n",
    "DataFarame ler üzerinden çeşitli basit istatistikler veren metodlar çağırabiliriz. Aşağıda bir kaç örenk bulacaksınız: "
   ]
  },
  {
   "cell_type": "code",
   "execution_count": 4,
   "metadata": {},
   "outputs": [
    {
     "data": {
      "text/plain": [
       "Video views    1.071449e+09\n",
       "dtype: float64"
      ]
     },
     "execution_count": 4,
     "metadata": {},
     "output_type": "execute_result"
    }
   ],
   "source": [
    "df.mean()"
   ]
  },
  {
   "cell_type": "markdown",
   "metadata": {},
   "source": [
    "Burada __mean()__ metodu numerik değere sahip olan __Video views__ kolonundan ortalama değeri hesaplıyor. \n",
    "Peki DataFrame de veri tiplerini değiştirebilir miyiz?\n",
    "Bu sorunu cevabı __EVET__"
   ]
  },
  {
   "cell_type": "code",
   "execution_count": 5,
   "metadata": {},
   "outputs": [],
   "source": [
    "df['Subscribers']=pd.to_numeric(df['Subscribers'],errors='coarse')"
   ]
  },
  {
   "cell_type": "code",
   "execution_count": 6,
   "metadata": {},
   "outputs": [
    {
     "data": {
      "text/plain": [
       "2620004.1344027747"
      ]
     },
     "execution_count": 6,
     "metadata": {},
     "output_type": "execute_result"
    }
   ],
   "source": [
    "df['Subscribers'].mean()"
   ]
  },
  {
   "cell_type": "code",
   "execution_count": 7,
   "metadata": {},
   "outputs": [
    {
     "data": {
      "text/plain": [
       "Text(0.5,1,'İlk 5 Youtube kanalı üye sayısı karşılatırma')"
      ]
     },
     "execution_count": 7,
     "metadata": {},
     "output_type": "execute_result"
    }
   ],
   "source": [
    "import matplotlib.pyplot as plt\n",
    "df.head(10).plot.bar(x = 'Channel name', y = 'Subscribers')\n",
    "plt.title('İlk 5 Youtube kanalı üye sayısı karşılatırma')"
   ]
  },
  {
   "cell_type": "markdown",
   "metadata": {},
   "source": [
    "Bir üst satırdaki örnekte ise dataFrame içindeki iki ayrı kolondaki verilere göre bir histogram çizdirdik. Histogram dışında\n",
    "normal grafikelerde çizbiliriz:    "
   ]
  },
  {
   "cell_type": "code",
   "execution_count": 8,
   "metadata": {},
   "outputs": [
    {
     "data": {
      "text/plain": [
       "<matplotlib.axes._subplots.AxesSubplot at 0x97f1ef0>"
      ]
     },
     "execution_count": 8,
     "metadata": {},
     "output_type": "execute_result"
    },
    {
     "data": {
      "image/png": "[encoded data removed]",
      "text/plain": [
       "<matplotlib.figure.Figure at 0x926fcc0>"
      ]
     },
     "metadata": {},
     "output_type": "display_data"
    }
   ],
   "source": [
    "df.head(100).plot(x='Video Uploads', y='Video views')"
   ]
  },
  {
   "cell_type": "markdown",
   "metadata": {},
   "source": [
    "### DataFrame Veri Filtreleme ve Indisler vasıtasıyla verilere Ulaşma"
   ]
  },
  {
   "cell_type": "markdown",
   "metadata": {},
   "source": [
    "Listelerde olduğu gibi verilere indisler vasıtatyla da ulaşabiliyoruz. Liste veri yapılarında ki olduğu gibi ilk indis yine \n",
    "0(sıfır)'dan başlıyor. Yanlız burada listelrden farklı olarak __iloc()__ metod üzerinden çağırıyoruz. Örnek vermek gerekirse:"
   ]
  },
  {
   "cell_type": "code",
   "execution_count": 9,
   "metadata": {},
   "outputs": [
    {
     "data": {
      "text/plain": [
       "'A++ '"
      ]
     },
     "execution_count": 9,
     "metadata": {},
     "output_type": "execute_result"
    }
   ],
   "source": [
    "df.iloc[0,1]"
   ]
  },
  {
   "cell_type": "markdown",
   "metadata": {},
   "source": [
    "Bu örnekte verimizin birinci satırındaki 2. kolonundaki veriyi çekmiş olduk."
   ]
  },
  {
   "cell_type": "code",
   "execution_count": 10,
   "metadata": {},
   "outputs": [
    {
     "data": {
      "text/plain": [
       "Rank                                    3rd\n",
       "Grade                                  A++ \n",
       "Channel name     Cocomelon - Nursery Rhymes\n",
       "Video Uploads                           373\n",
       "Subscribers                     1.92383e+07\n",
       "Video views                      9793305082\n",
       "Name: 2, dtype: object"
      ]
     },
     "execution_count": 10,
     "metadata": {},
     "output_type": "execute_result"
    }
   ],
   "source": [
    "df.iloc[2,:]"
   ]
  },
  {
   "cell_type": "markdown",
   "metadata": {},
   "source": [
    "Üstteki bu satırda da DataFrame'deki 3. satırdaki bütün kolonların değerlerini okuyoruz.\n",
    "Sadece __'Grade'__ isimli kolonu okumak isteseydik ve __notlar__ isimli bir DataFrame'de bunu tutmak isteseydik:"
   ]
  },
  {
   "cell_type": "code",
   "execution_count": 11,
   "metadata": {},
   "outputs": [],
   "source": [
    "notlar=df.iloc[:,1]\n",
    "import numpy as np"
   ]
  },
  {
   "cell_type": "markdown",
   "metadata": {},
   "source": [
    "yazmalıydık."
   ]
  },
  {
   "cell_type": "markdown",
   "metadata": {},
   "source": [
    "Peki mesela sadece notu __'A++'__ olan kanalların verilerine ulaşmak isteseydik bunu nasıl yapardık? Bunu DataFrame'ler\n",
    "de filtreleme yapaprak yapabiliriz. Aşağıdaki satırda sadece notu __'A++'__ olan kanalların listesine ulaşan filtreleme örneği \n",
    "verilmiştir."
   ]
  },
  {
   "cell_type": "code",
   "execution_count": 12,
   "metadata": {},
   "outputs": [
    {
     "name": "stdout",
     "output_type": "stream",
     "text": [
      "<class 'pandas.core.frame.DataFrame'>\n",
      "Int64Index: 10 entries, 0 to 9\n",
      "Data columns (total 6 columns):\n",
      "Rank             10 non-null object\n",
      "Grade            10 non-null object\n",
      "Channel name     10 non-null object\n",
      "Video Uploads    10 non-null object\n",
      "Subscribers      10 non-null float64\n",
      "Video views      10 non-null int64\n",
      "dtypes: float64(1), int64(1), object(4)\n",
      "memory usage: 560.0+ bytes\n"
     ]
    },
    {
     "data": {
      "text/plain": [
       "Text(0.5,1,'  A++ notuna sahip kanalların üye sayısı karşılaştırma')"
      ]
     },
     "execution_count": 12,
     "metadata": {},
     "output_type": "execute_result"
    },
    {
     "data": {
      "image/png": "[encoded data removed]",
      "text/plain": [
       "<matplotlib.figure.Figure at 0x9835a90>"
      ]
     },
     "metadata": {},
     "output_type": "display_data"
    }
   ],
   "source": [
    "Aplus_kanallar=df[df.Grade=='A++ ']\n",
    "Aplus_kanallar.info()\n",
    "Aplus_kanallar.plot.bar(x ='Channel name', y = 'Video views')\n",
    "plt.title('  A++ notuna sahip kanalların üye sayısı karşılaştırma')"
   ]
  },
  {
   "cell_type": "code",
   "execution_count": 13,
   "metadata": {},
   "outputs": [
    {
     "data": {
      "text/plain": [
       "0     82757\n",
       "1     12661\n",
       "2       373\n",
       "3     27323\n",
       "4     36756\n",
       "5     30243\n",
       "6      8500\n",
       "7    100147\n",
       "8      1140\n",
       "9     74607\n",
       "Name: Video Uploads, dtype: int32"
      ]
     },
     "execution_count": 13,
     "metadata": {},
     "output_type": "execute_result"
    }
   ],
   "source": [
    "Aplus_kanallar.head(10)\n",
    "Aplus_kanallar['Video Uploads'].astype(np.int32)"
   ]
  },
  {
   "cell_type": "code",
   "execution_count": 14,
   "metadata": {},
   "outputs": [
    {
     "data": {
      "text/html": [
       "<div>\n",
       "<style scoped>\n",
       "    .dataframe tbody tr th:only-of-type {\n",
       "        vertical-align: middle;\n",
       "    }\n",
       "\n",
       "    .dataframe tbody tr th {\n",
       "        vertical-align: top;\n",
       "    }\n",
       "\n",
       "    .dataframe thead th {\n",
       "        text-align: right;\n",
       "    }\n",
       "</style>\n",
       "<table border=\"1\" class=\"dataframe\">\n",
       "  <thead>\n",
       "    <tr style=\"text-align: right;\">\n",
       "      <th></th>\n",
       "      <th>Subscribers</th>\n",
       "      <th>Video views</th>\n",
       "    </tr>\n",
       "  </thead>\n",
       "  <tbody>\n",
       "    <tr>\n",
       "      <th>Subscribers</th>\n",
       "      <td>1.000000</td>\n",
       "      <td>0.868403</td>\n",
       "    </tr>\n",
       "    <tr>\n",
       "      <th>Video views</th>\n",
       "      <td>0.868403</td>\n",
       "      <td>1.000000</td>\n",
       "    </tr>\n",
       "  </tbody>\n",
       "</table>\n",
       "</div>"
      ],
      "text/plain": [
       "             Subscribers  Video views\n",
       "Subscribers     1.000000     0.868403\n",
       "Video views     0.868403     1.000000"
      ]
     },
     "execution_count": 14,
     "metadata": {},
     "output_type": "execute_result"
    }
   ],
   "source": [
    "Aplus_kanallar.corr()"
   ]
  },
  {
   "cell_type": "markdown",
   "metadata": {},
   "source": [
    "### Verileri Gruplama ve Sıralama:  sort_values() GroupBy() Kullanımı"
   ]
  },
  {
   "cell_type": "markdown",
   "metadata": {},
   "source": [
    "DataFrame'lerde veriler üzerinden nasıl filtreleme yapabileceğimizi ve indislerle DataFrame'ler deki verilere nasıl ulaşacağımıza dahil örnekleri gördük. Bu yaptığımız işlemler dışında DataFrame'leri belli bir değere göre sıralamamız ve gruplandırmamız mümkün. İlk olarak sıralama konusuna göz atalım:\n",
    "\n",
    "Belli bir özelliğe göre DataFrame'de sıralama yapmak istiyorsak bunu __sort_values()__ metoduyla yapabiliriz. Örnek olarak, kullandığımızı __df__ isimli DataFrame'mizi __'Subscribers'__ isimli kolonundaki verilere göre sıralayalım:"
   ]
  },
  {
   "cell_type": "code",
   "execution_count": 15,
   "metadata": {},
   "outputs": [
    {
     "data": {
      "text/html": [
       "<div>\n",
       "<style scoped>\n",
       "    .dataframe tbody tr th:only-of-type {\n",
       "        vertical-align: middle;\n",
       "    }\n",
       "\n",
       "    .dataframe tbody tr th {\n",
       "        vertical-align: top;\n",
       "    }\n",
       "\n",
       "    .dataframe thead th {\n",
       "        text-align: right;\n",
       "    }\n",
       "</style>\n",
       "<table border=\"1\" class=\"dataframe\">\n",
       "  <thead>\n",
       "    <tr style=\"text-align: right;\">\n",
       "      <th></th>\n",
       "      <th>Rank</th>\n",
       "      <th>Grade</th>\n",
       "      <th>Channel name</th>\n",
       "      <th>Video Uploads</th>\n",
       "      <th>Subscribers</th>\n",
       "      <th>Video views</th>\n",
       "    </tr>\n",
       "  </thead>\n",
       "  <tbody>\n",
       "    <tr>\n",
       "      <th>4096</th>\n",
       "      <td>4,097th</td>\n",
       "      <td>B+</td>\n",
       "      <td>Xiaomi France</td>\n",
       "      <td>17</td>\n",
       "      <td>301.0</td>\n",
       "      <td>12943662</td>\n",
       "    </tr>\n",
       "    <tr>\n",
       "      <th>92</th>\n",
       "      <td>93rd</td>\n",
       "      <td>A</td>\n",
       "      <td>hairong zheng</td>\n",
       "      <td>492</td>\n",
       "      <td>394.0</td>\n",
       "      <td>254252482</td>\n",
       "    </tr>\n",
       "    <tr>\n",
       "      <th>3516</th>\n",
       "      <td>3,517th</td>\n",
       "      <td>B+</td>\n",
       "      <td>Jianpeng Li</td>\n",
       "      <td>232</td>\n",
       "      <td>437.0</td>\n",
       "      <td>70635195</td>\n",
       "    </tr>\n",
       "    <tr>\n",
       "      <th>3160</th>\n",
       "      <td>3,161st</td>\n",
       "      <td>B+</td>\n",
       "      <td>Ron Funches - Topic</td>\n",
       "      <td>21</td>\n",
       "      <td>453.0</td>\n",
       "      <td>13932203</td>\n",
       "    </tr>\n",
       "    <tr>\n",
       "      <th>2287</th>\n",
       "      <td>2,288th</td>\n",
       "      <td>B+</td>\n",
       "      <td>Christian Nodal - Topic</td>\n",
       "      <td>30</td>\n",
       "      <td>471.0</td>\n",
       "      <td>17868274</td>\n",
       "    </tr>\n",
       "  </tbody>\n",
       "</table>\n",
       "</div>"
      ],
      "text/plain": [
       "         Rank Grade             Channel name Video Uploads  Subscribers  \\\n",
       "4096  4,097th   B+             Xiaomi France            17        301.0   \n",
       "92       93rd    A             hairong zheng           492        394.0   \n",
       "3516  3,517th   B+               Jianpeng Li           232        437.0   \n",
       "3160  3,161st   B+       Ron Funches - Topic            21        453.0   \n",
       "2287  2,288th   B+   Christian Nodal - Topic            30        471.0   \n",
       "\n",
       "      Video views  \n",
       "4096     12943662  \n",
       "92      254252482  \n",
       "3516     70635195  \n",
       "3160     13932203  \n",
       "2287     17868274  "
      ]
     },
     "execution_count": 15,
     "metadata": {},
     "output_type": "execute_result"
    }
   ],
   "source": [
    "df.sort_values(by=['Subscribers'], ascending=True).head(5)"
   ]
  },
  {
   "cell_type": "markdown",
   "metadata": {},
   "source": [
    "Bu örnekte sıraladıktan sonra ilk 5 elemanı gösterdik. Gördüğüniz üzere metodun içinde 'ascending=True' \n",
    "isimli bir parametre kullandık. Bu artan sırada yap demek. Azalan sırada olması için __True__ yerine __False__\n",
    "yazmalıyız."
   ]
  },
  {
   "cell_type": "markdown",
   "metadata": {},
   "source": [
    "Peki bu sıralama işlemini daha ileriye nası götürebiliriz? Mesela 'Subscribers' saysısına göre sıralmış olan listeyi\n",
    "'Grade' isimli listeye göre bir iç sıralama yapabilir miyiz? 'Yani sıralama içinde sıralama nasıl yaparız?' demek istiyoruz. Bu da mümkün:"
   ]
  },
  {
   "cell_type": "code",
   "execution_count": 16,
   "metadata": {},
   "outputs": [
    {
     "data": {
      "text/html": [
       "<div>\n",
       "<style scoped>\n",
       "    .dataframe tbody tr th:only-of-type {\n",
       "        vertical-align: middle;\n",
       "    }\n",
       "\n",
       "    .dataframe tbody tr th {\n",
       "        vertical-align: top;\n",
       "    }\n",
       "\n",
       "    .dataframe thead th {\n",
       "        text-align: right;\n",
       "    }\n",
       "</style>\n",
       "<table border=\"1\" class=\"dataframe\">\n",
       "  <thead>\n",
       "    <tr style=\"text-align: right;\">\n",
       "      <th></th>\n",
       "      <th>Rank</th>\n",
       "      <th>Grade</th>\n",
       "      <th>Channel name</th>\n",
       "      <th>Video Uploads</th>\n",
       "      <th>Subscribers</th>\n",
       "      <th>Video views</th>\n",
       "    </tr>\n",
       "  </thead>\n",
       "  <tbody>\n",
       "    <tr>\n",
       "      <th>4096</th>\n",
       "      <td>4,097th</td>\n",
       "      <td>B+</td>\n",
       "      <td>Xiaomi France</td>\n",
       "      <td>17</td>\n",
       "      <td>301.0</td>\n",
       "      <td>12943662</td>\n",
       "    </tr>\n",
       "    <tr>\n",
       "      <th>92</th>\n",
       "      <td>93rd</td>\n",
       "      <td>A</td>\n",
       "      <td>hairong zheng</td>\n",
       "      <td>492</td>\n",
       "      <td>394.0</td>\n",
       "      <td>254252482</td>\n",
       "    </tr>\n",
       "    <tr>\n",
       "      <th>3516</th>\n",
       "      <td>3,517th</td>\n",
       "      <td>B+</td>\n",
       "      <td>Jianpeng Li</td>\n",
       "      <td>232</td>\n",
       "      <td>437.0</td>\n",
       "      <td>70635195</td>\n",
       "    </tr>\n",
       "    <tr>\n",
       "      <th>3160</th>\n",
       "      <td>3,161st</td>\n",
       "      <td>B+</td>\n",
       "      <td>Ron Funches - Topic</td>\n",
       "      <td>21</td>\n",
       "      <td>453.0</td>\n",
       "      <td>13932203</td>\n",
       "    </tr>\n",
       "    <tr>\n",
       "      <th>2287</th>\n",
       "      <td>2,288th</td>\n",
       "      <td>B+</td>\n",
       "      <td>Christian Nodal - Topic</td>\n",
       "      <td>30</td>\n",
       "      <td>471.0</td>\n",
       "      <td>17868274</td>\n",
       "    </tr>\n",
       "  </tbody>\n",
       "</table>\n",
       "</div>"
      ],
      "text/plain": [
       "         Rank Grade             Channel name Video Uploads  Subscribers  \\\n",
       "4096  4,097th   B+             Xiaomi France            17        301.0   \n",
       "92       93rd    A             hairong zheng           492        394.0   \n",
       "3516  3,517th   B+               Jianpeng Li           232        437.0   \n",
       "3160  3,161st   B+       Ron Funches - Topic            21        453.0   \n",
       "2287  2,288th   B+   Christian Nodal - Topic            30        471.0   \n",
       "\n",
       "      Video views  \n",
       "4096     12943662  \n",
       "92      254252482  \n",
       "3516     70635195  \n",
       "3160     13932203  \n",
       "2287     17868274  "
      ]
     },
     "execution_count": 16,
     "metadata": {},
     "output_type": "execute_result"
    }
   ],
   "source": [
    "df.sort_values(by=['Subscribers','Rank'],ascending=[True,False]).head(5)"
   ]
  },
  {
   "cell_type": "markdown",
   "metadata": {},
   "source": [
    "Bu örnekte tam olarak istediğimiz sonucu göremiyoruz çünkü Subscriber sayısı eşit olan kişilerde Grade'e göre sıralama yapacaktır."
   ]
  },
  {
   "cell_type": "markdown",
   "metadata": {},
   "source": [
    "Bunun dışında verilerimizi belli özelliklere göre gruplandırabliriz. Mesela her __'Grade'__ tipine göre verilerimizi \n",
    "gruplandırabiliriz."
   ]
  },
  {
   "cell_type": "code",
   "execution_count": 17,
   "metadata": {},
   "outputs": [
    {
     "data": {
      "text/html": [
       "<div>\n",
       "<style scoped>\n",
       "    .dataframe tbody tr th:only-of-type {\n",
       "        vertical-align: middle;\n",
       "    }\n",
       "\n",
       "    .dataframe tbody tr th {\n",
       "        vertical-align: top;\n",
       "    }\n",
       "\n",
       "    .dataframe thead th {\n",
       "        text-align: right;\n",
       "    }\n",
       "</style>\n",
       "<table border=\"1\" class=\"dataframe\">\n",
       "  <thead>\n",
       "    <tr style=\"text-align: right;\">\n",
       "      <th></th>\n",
       "      <th>Subscribers</th>\n",
       "      <th>Video views</th>\n",
       "    </tr>\n",
       "    <tr>\n",
       "      <th>Grade</th>\n",
       "      <th></th>\n",
       "      <th></th>\n",
       "    </tr>\n",
       "  </thead>\n",
       "  <tbody>\n",
       "    <tr>\n",
       "      <th>A</th>\n",
       "      <td>5.107136e+06</td>\n",
       "      <td>2.361317e+09</td>\n",
       "    </tr>\n",
       "    <tr>\n",
       "      <th>A+</th>\n",
       "      <td>1.172695e+07</td>\n",
       "      <td>6.053121e+09</td>\n",
       "    </tr>\n",
       "    <tr>\n",
       "      <th>A++</th>\n",
       "      <td>2.228176e+07</td>\n",
       "      <td>2.119909e+10</td>\n",
       "    </tr>\n",
       "    <tr>\n",
       "      <th>A-</th>\n",
       "      <td>2.798520e+06</td>\n",
       "      <td>1.041149e+09</td>\n",
       "    </tr>\n",
       "    <tr>\n",
       "      <th>B+</th>\n",
       "      <td>1.535208e+06</td>\n",
       "      <td>5.265217e+08</td>\n",
       "    </tr>\n",
       "    <tr>\n",
       "      <th></th>\n",
       "      <td>2.795290e+05</td>\n",
       "      <td>9.912005e+07</td>\n",
       "    </tr>\n",
       "  </tbody>\n",
       "</table>\n",
       "</div>"
      ],
      "text/plain": [
       "        Subscribers   Video views\n",
       "Grade                            \n",
       "A      5.107136e+06  2.361317e+09\n",
       "A+     1.172695e+07  6.053121e+09\n",
       "A++    2.228176e+07  2.119909e+10\n",
       "A-     2.798520e+06  1.041149e+09\n",
       "B+     1.535208e+06  5.265217e+08\n",
       "       2.795290e+05  9.912005e+07"
      ]
     },
     "execution_count": 17,
     "metadata": {},
     "output_type": "execute_result"
    }
   ],
   "source": [
    "df.groupby(['Grade']).mean()"
   ]
  },
  {
   "cell_type": "markdown",
   "metadata": {},
   "source": [
    "groupby() metodunda da sort_values() da olduğu gibi hiyerarşik bir gruplamada da yapabiliriz. Maalesef elimizdeki veri setimiz buna pek mümkünlük vermiyor. Ama genel yazım kuralı tanımlayabiliriz:\n",
    "\n",
    "   dataframe.groupby([kolon,kolon2,...])\n",
    "\n",
    "- __groupby()__ kullanımı için __[buraya](https://pandas.pydata.org/pandas-docs/stable/reference/api/pandas.DataFrame.groupby.html)__ bakabilirsiniz.\n",
    "- __sort_values()__ kullanımı için ise __[buraya](https://pandas.pydata.org/pandas-docs/stable/reference/api/pandas.DataFrame.sort_values.html?highlight=sort_values#pandas.DataFrame.sort_values)__ bakabilirsiniz."
   ]
  },
  {
   "cell_type": "markdown",
   "metadata": {},
   "source": [
    "### DataFrame'deki kolonları yeniden isimlendirme"
   ]
  },
  {
   "cell_type": "markdown",
   "metadata": {},
   "source": [
    "Kullandığımız DataFrame'lerde kullandığımız kolon isimlerinin yeniden adlandırmamız mümkün. Örneğin, 'Grade, isimli kolon ismini \n",
    "'NOT' olarak değiştirelim."
   ]
  },
  {
   "cell_type": "code",
   "execution_count": 18,
   "metadata": {},
   "outputs": [
    {
     "data": {
      "text/html": [
       "<div>\n",
       "<style scoped>\n",
       "    .dataframe tbody tr th:only-of-type {\n",
       "        vertical-align: middle;\n",
       "    }\n",
       "\n",
       "    .dataframe tbody tr th {\n",
       "        vertical-align: top;\n",
       "    }\n",
       "\n",
       "    .dataframe thead th {\n",
       "        text-align: right;\n",
       "    }\n",
       "</style>\n",
       "<table border=\"1\" class=\"dataframe\">\n",
       "  <thead>\n",
       "    <tr style=\"text-align: right;\">\n",
       "      <th></th>\n",
       "      <th>Rank</th>\n",
       "      <th>Not</th>\n",
       "      <th>Channel name</th>\n",
       "      <th>Video Uploads</th>\n",
       "      <th>Subscribers</th>\n",
       "      <th>Video views</th>\n",
       "    </tr>\n",
       "  </thead>\n",
       "  <tbody>\n",
       "    <tr>\n",
       "      <th>0</th>\n",
       "      <td>1st</td>\n",
       "      <td>A++</td>\n",
       "      <td>Zee TV</td>\n",
       "      <td>82757</td>\n",
       "      <td>18752951.0</td>\n",
       "      <td>20869786591</td>\n",
       "    </tr>\n",
       "    <tr>\n",
       "      <th>1</th>\n",
       "      <td>2nd</td>\n",
       "      <td>A++</td>\n",
       "      <td>T-Series</td>\n",
       "      <td>12661</td>\n",
       "      <td>61196302.0</td>\n",
       "      <td>47548839843</td>\n",
       "    </tr>\n",
       "    <tr>\n",
       "      <th>2</th>\n",
       "      <td>3rd</td>\n",
       "      <td>A++</td>\n",
       "      <td>Cocomelon - Nursery Rhymes</td>\n",
       "      <td>373</td>\n",
       "      <td>19238251.0</td>\n",
       "      <td>9793305082</td>\n",
       "    </tr>\n",
       "    <tr>\n",
       "      <th>3</th>\n",
       "      <td>4th</td>\n",
       "      <td>A++</td>\n",
       "      <td>SET India</td>\n",
       "      <td>27323</td>\n",
       "      <td>31180559.0</td>\n",
       "      <td>22675948293</td>\n",
       "    </tr>\n",
       "    <tr>\n",
       "      <th>4</th>\n",
       "      <td>5th</td>\n",
       "      <td>A++</td>\n",
       "      <td>WWE</td>\n",
       "      <td>36756</td>\n",
       "      <td>32852346.0</td>\n",
       "      <td>26273668433</td>\n",
       "    </tr>\n",
       "  </tbody>\n",
       "</table>\n",
       "</div>"
      ],
      "text/plain": [
       "  Rank   Not                Channel name Video Uploads  Subscribers  \\\n",
       "0  1st  A++                       Zee TV         82757   18752951.0   \n",
       "1  2nd  A++                     T-Series         12661   61196302.0   \n",
       "2  3rd  A++   Cocomelon - Nursery Rhymes           373   19238251.0   \n",
       "3  4th  A++                    SET India         27323   31180559.0   \n",
       "4  5th  A++                          WWE         36756   32852346.0   \n",
       "\n",
       "   Video views  \n",
       "0  20869786591  \n",
       "1  47548839843  \n",
       "2   9793305082  \n",
       "3  22675948293  \n",
       "4  26273668433  "
      ]
     },
     "execution_count": 18,
     "metadata": {},
     "output_type": "execute_result"
    }
   ],
   "source": [
    "df.rename(columns={'Grade': 'Not'}, inplace=False).head(5)"
   ]
  },
  {
   "cell_type": "markdown",
   "metadata": {},
   "source": [
    "Bütün kolonlarıda yeniden isimlendirmemiz mümkün. Örneğin sadece eski kolon isimlerinin ilk iki harfini kullanalım:"
   ]
  },
  {
   "cell_type": "code",
   "execution_count": 19,
   "metadata": {},
   "outputs": [
    {
     "data": {
      "text/html": [
       "<div>\n",
       "<style scoped>\n",
       "    .dataframe tbody tr th:only-of-type {\n",
       "        vertical-align: middle;\n",
       "    }\n",
       "\n",
       "    .dataframe tbody tr th {\n",
       "        vertical-align: top;\n",
       "    }\n",
       "\n",
       "    .dataframe thead th {\n",
       "        text-align: right;\n",
       "    }\n",
       "</style>\n",
       "<table border=\"1\" class=\"dataframe\">\n",
       "  <thead>\n",
       "    <tr style=\"text-align: right;\">\n",
       "      <th></th>\n",
       "      <th>Ra</th>\n",
       "      <th>Gr</th>\n",
       "      <th>Ch</th>\n",
       "      <th>Vi</th>\n",
       "      <th>Su</th>\n",
       "      <th>Vi</th>\n",
       "    </tr>\n",
       "  </thead>\n",
       "  <tbody>\n",
       "    <tr>\n",
       "      <th>0</th>\n",
       "      <td>1st</td>\n",
       "      <td>A++</td>\n",
       "      <td>Zee TV</td>\n",
       "      <td>82757</td>\n",
       "      <td>18752951.0</td>\n",
       "      <td>20869786591</td>\n",
       "    </tr>\n",
       "    <tr>\n",
       "      <th>1</th>\n",
       "      <td>2nd</td>\n",
       "      <td>A++</td>\n",
       "      <td>T-Series</td>\n",
       "      <td>12661</td>\n",
       "      <td>61196302.0</td>\n",
       "      <td>47548839843</td>\n",
       "    </tr>\n",
       "    <tr>\n",
       "      <th>2</th>\n",
       "      <td>3rd</td>\n",
       "      <td>A++</td>\n",
       "      <td>Cocomelon - Nursery Rhymes</td>\n",
       "      <td>373</td>\n",
       "      <td>19238251.0</td>\n",
       "      <td>9793305082</td>\n",
       "    </tr>\n",
       "    <tr>\n",
       "      <th>3</th>\n",
       "      <td>4th</td>\n",
       "      <td>A++</td>\n",
       "      <td>SET India</td>\n",
       "      <td>27323</td>\n",
       "      <td>31180559.0</td>\n",
       "      <td>22675948293</td>\n",
       "    </tr>\n",
       "    <tr>\n",
       "      <th>4</th>\n",
       "      <td>5th</td>\n",
       "      <td>A++</td>\n",
       "      <td>WWE</td>\n",
       "      <td>36756</td>\n",
       "      <td>32852346.0</td>\n",
       "      <td>26273668433</td>\n",
       "    </tr>\n",
       "  </tbody>\n",
       "</table>\n",
       "</div>"
      ],
      "text/plain": [
       "    Ra    Gr                          Ch     Vi          Su           Vi\n",
       "0  1st  A++                       Zee TV  82757  18752951.0  20869786591\n",
       "1  2nd  A++                     T-Series  12661  61196302.0  47548839843\n",
       "2  3rd  A++   Cocomelon - Nursery Rhymes    373  19238251.0   9793305082\n",
       "3  4th  A++                    SET India  27323  31180559.0  22675948293\n",
       "4  5th  A++                          WWE  36756  32852346.0  26273668433"
      ]
     },
     "execution_count": 19,
     "metadata": {},
     "output_type": "execute_result"
    }
   ],
   "source": [
    "df.rename(columns=lambda isim:isim[0:2]).head(5)"
   ]
  },
  {
   "cell_type": "markdown",
   "metadata": {},
   "source": [
    "### Yararlanılabilecek Kaynaklar\n",
    "- https://docs.scipy.org/doc/numpy-1.16.1/reference/index.html\n",
    "- https://pandas.pydata.org/pandas-docs/stable/reference/index.html\n",
    "- https://towardsdatascience.com/a-quick-introduction-to-the-pandas-python-library-f1b678f34673 \n",
    "- https://www.kaggle.com/roshan77/youtube-data-who-got-the-most-subscribers\n",
    " "
   ]
  },
  {
   "cell_type": "code",
   "execution_count": null,
   "metadata": {},
   "outputs": [],
   "source": []
  }
 ],
 "metadata": {
  "kernelspec": {
   "display_name": "Python 3",
   "language": "python",
   "name": "python3"
  },
  "language_info": {
   "codemirror_mode": {
    "name": "ipython",
    "version": 3
   },
   "file_extension": ".py",
   "mimetype": "text/x-python",
   "name": "python",
   "nbconvert_exporter": "python",
   "pygments_lexer": "ipython3",
   "version": "3.6.4"
  }
 },
 "nbformat": 4,
 "nbformat_minor": 2
}
