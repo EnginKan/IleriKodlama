{
 "cells": [
  {
   "cell_type": "markdown",
   "metadata": {},
   "source": [
    "# Ders 1: Fonksiyon Kulanımını Hatırlama"
   ]
  },
  {
   "cell_type": "code",
   "execution_count": null,
   "metadata": {},
   "outputs": [],
   "source": [
    "Fonksiyonlar daha öncede gördüğümüz üzere yaptığımız işleri kolaylaştırmak işleri modilerleştirmek için\n",
    "kullanıdığımız yapılardır.\n",
    "\n",
    "Basitçe düşünücek olursak, fonksiyon bizden sıfır veya daha çok girdi alarak \n",
    "bize bir çıktı oluşturur.\n",
    "\n",
    "Python programlama dilinde fonksiyon tanımlamak için def fonksiyon_isim():\n",
    "yazıyorduk\n",
    "Bir örnek yazalım:"
   ]
  },
  {
   "cell_type": "code",
   "execution_count": 1,
   "metadata": {},
   "outputs": [],
   "source": [
    "def mesaj():\n",
    "    print('Merhaba Dünya!!!')"
   ]
  },
  {
   "cell_type": "markdown",
   "metadata": {},
   "source": [
    "Burada mesaj isimli hiç bir gird ideğer almayan ekranda 'Merhaba Dünya' yazdıran bir fonksiyon yazdık. Şimdi fonksiyonumuzu çağıralım."
   ]
  },
  {
   "cell_type": "code",
   "execution_count": 2,
   "metadata": {},
   "outputs": [
    {
     "name": "stdout",
     "output_type": "stream",
     "text": [
      "Merhaba Dünya!!!\n"
     ]
    }
   ],
   "source": [
    "mesaj()"
   ]
  },
  {
   "cell_type": "markdown",
   "metadata": {},
   "source": [
    "Python programlama dilinde biz kendimiz fonksiyonlar yazabileceğimiz gibi dilin kendisnin içinde olan birçok fonksiyon\n",
    "vardır.\n",
    "\n",
    "Örnek vermek gerecek olursak, daha önceki sömerstırdan hatırlayacağınız len() fonksiyonu.\n",
    "Bu fonksiyon verilen bir liste(list) boyunu( kaç elemandan oluştugunu) bize cevap olarak döndürüyordu.\n",
    "\n",
    "Biz ilk örneğimizi biraz geliştirelim ve burad bizden aldığı argümanı çıktıya ekleyecek şekilde düzenleyelim:"
   ]
  },
  {
   "cell_type": "code",
   "execution_count": 3,
   "metadata": {},
   "outputs": [
    {
     "name": "stdout",
     "output_type": "stream",
     "text": [
      "Merhaba  Engin\n"
     ]
    }
   ],
   "source": [
    "def mesaj(kelime):\n",
    "    print('Merhaba ',kelime)\n",
    "\n",
    "isim='Engin'\n",
    "mesaj(isim)"
   ]
  },
  {
   "cell_type": "markdown",
   "metadata": {},
   "source": [
    "Bu örnekte tek argüman alan bir fonsiyon yazdık ve bu fonsiyonu çağırdık gördüğünüz üzere girdiğim isim adlı değişkeni\n",
    "Merhaba mesajı ile birlikte bastırdı. Tabiki sadece fonksiyonlar ekranda mesaj yazdırmak için kullanılmaz.\n",
    "\n",
    "Bize bir sonuç döndürmesi için kullanırız. Mesela verilen bir listede ki sayıların toplamanı hesaplamak için\n",
    "topla() diye bir fonksyon yazalım:"
   ]
  },
  {
   "cell_type": "code",
   "execution_count": 5,
   "metadata": {},
   "outputs": [
    {
     "name": "stdout",
     "output_type": "stream",
     "text": [
      "1225\n"
     ]
    }
   ],
   "source": [
    "def topla(liste):\n",
    "    toplam=0\n",
    "    for sayi in liste:\n",
    "        toplam=toplam+sayi\n",
    "    return toplam\n",
    "\n",
    "sayilar=range(0,50,1)\n",
    "print(topla(sayilar))        "
   ]
  },
  {
   "cell_type": "markdown",
   "metadata": {},
   "source": [
    "Bir fonksiyonun içinde başka bir fonksiyonunda kullanabiliriz. Mesela topla() fonksiyonunu kullanarak ortalama() \n",
    "isimli bir fonksiyon yazalım:"
   ]
  },
  {
   "cell_type": "code",
   "execution_count": 6,
   "metadata": {},
   "outputs": [
    {
     "name": "stdout",
     "output_type": "stream",
     "text": [
      "ortalama= 24.5\n"
     ]
    }
   ],
   "source": [
    "def ortalama(liste):\n",
    "    \"\"\"\n",
    "    Burada fonksiyonun ne yaptığını belirtmek için yorum satırı yazabiliriz.\n",
    "    \"\"\"\n",
    "    return (topla(liste)/len(liste))\n",
    "\n",
    "print('ortalama=',ortalama(sayilar))"
   ]
  },
  {
   "cell_type": "markdown",
   "metadata": {},
   "source": [
    "Fonksiyonlarda tek bir sonuç bize döndürebileceği gibi birden çok souçta bize döndürebilir.\n",
    "Buna örnek olarak stat() diye bir fonksiyon yazalım bize aldığı listenin ortalama ve toplam değerlerini döndürsün:"
   ]
  },
  {
   "cell_type": "code",
   "execution_count": 7,
   "metadata": {},
   "outputs": [
    {
     "name": "stdout",
     "output_type": "stream",
     "text": [
      "Toplam= 1225 ortalama= 24.5\n"
     ]
    }
   ],
   "source": [
    "def stat(liste):\n",
    "    \"\"\"\n",
    "    Verilen listenin ortalama ve toplam değerlerinin döndürür\n",
    "    \"\"\"\n",
    "    return ortalama(liste),topla(liste)\n",
    "#Şimdi stat() fonksiyonunu çağıralım\n",
    "ort,toplam=stat(sayilar)\n",
    "print('Toplam=',toplam,'ortalama=',ort)"
   ]
  },
  {
   "cell_type": "code",
   "execution_count": null,
   "metadata": {},
   "outputs": [],
   "source": [
    "Fonksiyonların kullanımıyla alakalı daha birçok örneği gelecek derslerde yapacağız. Bu dökümna sadece temel bir görüş\n",
    "oluşturmak amacıyla hazırlanmıştır."
   ]
  }
 ],
 "metadata": {
  "kernelspec": {
   "display_name": "Python 3",
   "language": "python",
   "name": "python3"
  },
  "language_info": {
   "codemirror_mode": {
    "name": "ipython",
    "version": 3
   },
   "file_extension": ".py",
   "mimetype": "text/x-python",
   "name": "python",
   "nbconvert_exporter": "python",
   "pygments_lexer": "ipython3",
   "version": "3.6.4"
  }
 },
 "nbformat": 4,
 "nbformat_minor": 2
}
