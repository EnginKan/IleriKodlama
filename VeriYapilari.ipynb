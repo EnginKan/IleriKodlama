{
 "cells": [
  {
   "cell_type": "markdown",
   "metadata": {},
   "source": [
    "# Temel Veri Yapıları(Data Structures)\n",
    "Bu dersimizde python programlama dilinde (non-primative) veriyapılarının inceleyeceğiz:\n",
    "    İnceleyeceğimiz veri yapıları: List, Tuples, Dictionaries\n",
    "    Bunların dışında Stacks,Trees ve Graphs gibi veri yapılarıda mevcut\n",
    "Bu dersin sonunda vereceğim linklerden daha detaylı bilgilere ulaşabilirsiniz."
   ]
  },
  {
   "cell_type": "markdown",
   "metadata": {},
   "source": [
    "# List\n",
    "List(Listeler) değişik tipteki birçok veriyi tutmak için kullanaln veri yapılarıdır.\n",
    "Aşağıda liste isminde boş bir List veri yapısı yaratılılmıştır.(type() komutu ile de yaratılan veri tipi gösterilmiştir.) "
   ]
  },
  {
   "cell_type": "code",
   "execution_count": 1,
   "metadata": {},
   "outputs": [
    {
     "data": {
      "text/plain": [
       "list"
      ]
     },
     "execution_count": 1,
     "metadata": {},
     "output_type": "execute_result"
    }
   ],
   "source": [
    "liste=[]\n",
    "#veri yapsısın tipini yazdırıyoruz\n",
    "type(liste)"
   ]
  },
  {
   "cell_type": "raw",
   "metadata": {},
   "source": [
    "Liste veri yapısında \"+\" operatörü ile iki liste yi birbirine ekliyebilirsiniz ve len() fonksiyonu ile \n",
    "listenizin eleman saysısnı bulabilirsiniz: Örneğin:"
   ]
  },
  {
   "cell_type": "code",
   "execution_count": 2,
   "metadata": {},
   "outputs": [
    {
     "name": "stdout",
     "output_type": "stream",
     "text": [
      "liste= [3, 5, 6]  Eleman sayisi 3\n"
     ]
    }
   ],
   "source": [
    "liste1=liste+[3,5,6]\n",
    "print(\"liste=\",liste1,\" Eleman sayisi\",len(liste1))"
   ]
  },
  {
   "cell_type": "markdown",
   "metadata": {},
   "source": [
    "Liste veri tipinde liste elemanları tek boyutlu olmak zorunda değil. Yani 3,5,7 gibi tamsayilardan veya 'Ahmet'\n",
    "gibi String veri tipinden oluşmak zorunda olabilir. Örneğin liste veri tipimdeki elemanlar diğer veri yapılarından\n",
    "da olabilir(tuple'lar veya dictionary'ler gibi). Çok boyutlu listelerde yaratabiliriz"
   ]
  },
  {
   "cell_type": "code",
   "execution_count": 3,
   "metadata": {},
   "outputs": [
    {
     "name": "stdout",
     "output_type": "stream",
     "text": [
      "[['Engin', 'Kandıran', 28], ['Cihan', 'Keles', 30]]  eleman sayisi 2\n"
     ]
    }
   ],
   "source": [
    "kisiler=[[\"Engin\",\"Kandıran\",28],[\"Cihan\",\"Keles\",30]]\n",
    "print(kisiler,\" eleman sayisi\",len(kisiler))"
   ]
  },
  {
   "cell_type": "markdown",
   "metadata": {},
   "source": [
    "Listeler deki elemanlara ulaşmak için indisleri kullanıyoruz(indexes). Listenin ilk elemanı indeks 0'da bulunur.\n",
    "Liste deki son eleman da liste boyunun bir eksiğindeki indisteki bulunur. "
   ]
  },
  {
   "cell_type": "code",
   "execution_count": 4,
   "metadata": {},
   "outputs": [
    {
     "name": "stdout",
     "output_type": "stream",
     "text": [
      "Ilk kisi:  ['Engin', 'Kandıran', 28]\n"
     ]
    }
   ],
   "source": [
    "print(\"Ilk kisi: \",kisiler[0])"
   ]
  },
  {
   "cell_type": "markdown",
   "metadata": {},
   "source": [
    "Yukarıda ki örnekte kisiler listesindeki ilk elemana ulaştık ama gördüğünüz üzere ilk elemanın değeri yine bir liste.\n",
    "Liste içinde ki bir listedeki elemanlara ulaşmak için ikinci bir indeks kullacağız. Mesela kisiler[0] elemanının ilk \n",
    "elemanına ulaşmak istiyorsak(\"Engin\"). Şu şekilde ulaşırız:"
   ]
  },
  {
   "cell_type": "code",
   "execution_count": 5,
   "metadata": {},
   "outputs": [
    {
     "name": "stdout",
     "output_type": "stream",
     "text": [
      "Ilk elemanın ilk elemanı: Engin\n"
     ]
    }
   ],
   "source": [
    "print(\"Ilk elemanın ilk elemanı:\", kisiler[0][0])"
   ]
  },
  {
   "cell_type": "markdown",
   "metadata": {},
   "source": [
    "Liste veri tipinden bir eleman silmek istiyorsak del() fonksiyonu kullanılır."
   ]
  },
  {
   "cell_type": "code",
   "execution_count": 6,
   "metadata": {},
   "outputs": [
    {
     "name": "stdout",
     "output_type": "stream",
     "text": [
      "[['Engin', 'Kandıran', 28], ['Cihan', 'Keles', 30]]\n",
      "[['Engin', 'Kandıran', 28]]\n"
     ]
    }
   ],
   "source": [
    "print(kisiler)\n",
    "#kisiler listesinden ikinci elemanı silelim\n",
    "del(kisiler[1])\n",
    "print(kisiler)"
   ]
  },
  {
   "cell_type": "markdown",
   "metadata": {},
   "source": [
    "Daha \"+\" operatörü ile eldeki liste ye yeni eleman ekleyebilecğeimizi söylemiştik. Onun dışında append()\n",
    "metod'u ile de yeni bir eleman ekleyebiliriz."
   ]
  },
  {
   "cell_type": "code",
   "execution_count": 7,
   "metadata": {},
   "outputs": [
    {
     "name": "stdout",
     "output_type": "stream",
     "text": [
      "[['Engin', 'Kandıran', 28], ['Ayse', 'Isik', 23]]\n"
     ]
    }
   ],
   "source": [
    "kisiler.append([\"Ayse\",\"Isik\",23])\n",
    "print(kisiler)"
   ]
  },
  {
   "cell_type": "markdown",
   "metadata": {},
   "source": [
    "# Tuples"
   ]
  },
  {
   "cell_type": "markdown",
   "metadata": {},
   "source": [
    "Tuple'lar python programlama dilinde list dışındaki diğer bir veri yapısı tipidir.\n",
    "Bir __tuples__ aşağıdak igib tanımlanır."
   ]
  },
  {
   "cell_type": "code",
   "execution_count": 1,
   "metadata": {},
   "outputs": [],
   "source": [
    "isimler=(\"Engin\",\"Ahmet\")"
   ]
  },
  {
   "cell_type": "markdown",
   "metadata": {},
   "source": [
    "Tuple'larda elamanlara listedeki gibi indisler vasıtaasıyla ulaşılır. Tuple'lar listelerden farklı olarak değiştirlemez\n",
    "ve sıralı veri yapılarıdır. Değiştirilemezden kasıt bir kere tuple yarattığınızda o tuple daki elamanları değiştiremezsiniz.\n",
    "(__Immutability__)"
   ]
  },
  {
   "cell_type": "code",
   "execution_count": 2,
   "metadata": {},
   "outputs": [
    {
     "name": "stdout",
     "output_type": "stream",
     "text": [
      "Engin\n"
     ]
    },
    {
     "ename": "TypeError",
     "evalue": "'tuple' object does not support item assignment",
     "output_type": "error",
     "traceback": [
      "\u001b[1;31m---------------------------------------------------------------------------\u001b[0m",
      "\u001b[1;31mTypeError\u001b[0m                                 Traceback (most recent call last)",
      "\u001b[1;32m<ipython-input-2-3e286b7c491b>\u001b[0m in \u001b[0;36m<module>\u001b[1;34m()\u001b[0m\n\u001b[0;32m      1\u001b[0m \u001b[1;33m\u001b[0m\u001b[0m\n\u001b[0;32m      2\u001b[0m \u001b[0mprint\u001b[0m\u001b[1;33m(\u001b[0m\u001b[0misimler\u001b[0m\u001b[1;33m[\u001b[0m\u001b[1;36m0\u001b[0m\u001b[1;33m]\u001b[0m\u001b[1;33m)\u001b[0m\u001b[1;33m\u001b[0m\u001b[0m\n\u001b[1;32m----> 3\u001b[1;33m \u001b[0misimler\u001b[0m\u001b[1;33m[\u001b[0m\u001b[1;36m1\u001b[0m\u001b[1;33m]\u001b[0m\u001b[1;33m=\u001b[0m\u001b[1;34m\"Mehmet\"\u001b[0m\u001b[1;33m\u001b[0m\u001b[0m\n\u001b[0m",
      "\u001b[1;31mTypeError\u001b[0m: 'tuple' object does not support item assignment"
     ]
    }
   ],
   "source": [
    "\n",
    "print(isimler[0])\n",
    "isimler[1]=\"Mehmet\""
   ]
  },
  {
   "cell_type": "markdown",
   "metadata": {},
   "source": [
    "Yukarıda ki örnekte ilk indisteki elemanı yazdırdık ve sonrasında tuple daki ikinci elemanını \"Mehmet\" yapmak \n",
    "istediğimizde bu değeri deşitiremediğimizi görüyoruz. Buda bahsettiğimiz immutability ile alakalı."
   ]
  },
  {
   "cell_type": "markdown",
   "metadata": {},
   "source": [
    "Tuple'larda değiştirelememe durumunun bir sonucuda tuple'lara yeni bir eleam eklemek veya eleman silmek mümkün değil. \n",
    "Gelin bunu örneklendirelim."
   ]
  },
  {
   "cell_type": "markdown",
   "metadata": {},
   "source": [
    "Bir diğer örnek için herhangi bir eleamnını silmeyi deneyelim:"
   ]
  },
  {
   "cell_type": "code",
   "execution_count": 5,
   "metadata": {},
   "outputs": [
    {
     "ename": "TypeError",
     "evalue": "'tuple' object doesn't support item deletion",
     "output_type": "error",
     "traceback": [
      "\u001b[1;31m---------------------------------------------------------------------------\u001b[0m",
      "\u001b[1;31mTypeError\u001b[0m                                 Traceback (most recent call last)",
      "\u001b[1;32m<ipython-input-5-aa4624198bb5>\u001b[0m in \u001b[0;36m<module>\u001b[1;34m()\u001b[0m\n\u001b[1;32m----> 1\u001b[1;33m \u001b[1;32mdel\u001b[0m \u001b[0misimler\u001b[0m\u001b[1;33m[\u001b[0m\u001b[1;36m1\u001b[0m\u001b[1;33m]\u001b[0m\u001b[1;33m\u001b[0m\u001b[0m\n\u001b[0m",
      "\u001b[1;31mTypeError\u001b[0m: 'tuple' object doesn't support item deletion"
     ]
    }
   ],
   "source": [
    "del isimler[1]"
   ]
  },
  {
   "cell_type": "markdown",
   "metadata": {},
   "source": [
    "Gördüğünüz üzere tuple daki herhangi bir elemanı silemezsiniz ama tuple'ın tamamını silebilirsiniz."
   ]
  },
  {
   "cell_type": "code",
   "execution_count": 6,
   "metadata": {},
   "outputs": [],
   "source": [
    "del isimler"
   ]
  },
  {
   "cell_type": "markdown",
   "metadata": {},
   "source": [
    "# Dictionaries"
   ]
  },
  {
   "cell_type": "markdown",
   "metadata": {},
   "source": [
    "Dictionaries ise indekslenebilen, sırasız,değiştirilebilir, anahtar-değer(key-values) çiftlerinden oluşan ver tipleridir. Aşağıda dictioary veri yapısına bir örnek verilmiştir."
   ]
  },
  {
   "cell_type": "code",
   "execution_count": 8,
   "metadata": {},
   "outputs": [
    {
     "name": "stdout",
     "output_type": "stream",
     "text": [
      "{'marka': 'Ford', 'model': 'Mustang', 'yıl': 1964}\n"
     ]
    }
   ],
   "source": [
    "bu_sozluk =\t{\n",
    "  \"marka\": \"Ford\",\n",
    "  \"model\": \"Mustang\",\n",
    "  \"yıl\": 1964\n",
    "}\n",
    "print(bu_sozluk)"
   ]
  },
  {
   "cell_type": "markdown",
   "metadata": {},
   "source": [
    "Bu kullanımda \"marka\",\"model\" ve \"yıl\" ifadeleri anahtarları tanımlamaktadır. Dictionary lerde indeksleri anahtar \n",
    "kelimeler temsil eder. Örnek vermek gerekirse \"Ford\" değeirni almak için:"
   ]
  },
  {
   "cell_type": "code",
   "execution_count": 10,
   "metadata": {},
   "outputs": [
    {
     "data": {
      "text/plain": [
       "'Ford'"
      ]
     },
     "execution_count": 10,
     "metadata": {},
     "output_type": "execute_result"
    }
   ],
   "source": [
    "bu_sozluk[\"marka\"]"
   ]
  },
  {
   "cell_type": "markdown",
   "metadata": {},
   "source": [
    "şeklinde \"marka\" anahtarını kullanırız."
   ]
  },
  {
   "cell_type": "markdown",
   "metadata": {},
   "source": [
    "Python programlama dilinde bahsettiğimiz bu özellikler çok temel ve basit kullanımları göstermektedir. \n",
    "Daha dtaylı bilgi için aşağıda verilen linklere göz atmanızı tavsiye ederiz:\n",
    "### Linkler\n",
    "\n",
    "- https://docs.python.org/3/tutorial/datastructures.html\n",
    "- http://thomas-cokelaer.info/tutorials/python/dicts.html\n",
    "- https://python.swaroopch.com/data_structures.html"
   ]
  }
 ],
 "metadata": {
  "kernelspec": {
   "display_name": "Python 3",
   "language": "python",
   "name": "python3"
  },
  "language_info": {
   "codemirror_mode": {
    "name": "ipython",
    "version": 3
   },
   "file_extension": ".py",
   "mimetype": "text/x-python",
   "name": "python",
   "nbconvert_exporter": "python",
   "pygments_lexer": "ipython3",
   "version": "3.6.4"
  }
 },
 "nbformat": 4,
 "nbformat_minor": 2
}
